{
  "cells": [
    {
      "cell_type": "code",
      "execution_count": null,
      "id": "1b3eec0b-c6e4-4ed0-9a87-a737cd0eb024",
      "metadata": {
        "id": "1b3eec0b-c6e4-4ed0-9a87-a737cd0eb024"
      },
      "outputs": [],
      "source": [
        "from selenium import webdriver"
      ]
    },
    {
      "cell_type": "code",
      "execution_count": null,
      "id": "86d765a5-46c1-4d82-8948-ce801ea2f1cd",
      "metadata": {
        "id": "86d765a5-46c1-4d82-8948-ce801ea2f1cd"
      },
      "outputs": [],
      "source": [
        "from selenium.webdriver.common.by import By"
      ]
    },
    {
      "cell_type": "code",
      "execution_count": null,
      "id": "12dcc548-20cc-447b-93ef-cb90e2d63cef",
      "metadata": {
        "id": "12dcc548-20cc-447b-93ef-cb90e2d63cef"
      },
      "outputs": [],
      "source": [
        "driver = webdriver.Chrome()"
      ]
    },
    {
      "cell_type": "code",
      "execution_count": null,
      "id": "09cef5fb-ab04-4b2a-94a7-9f00d360e1a8",
      "metadata": {
        "id": "09cef5fb-ab04-4b2a-94a7-9f00d360e1a8"
      },
      "outputs": [],
      "source": [
        "driver.get(\"https://www.boxofficemojo.com/chart/top_lifetime_gross/?area=XWW\")"
      ]
    },
    {
      "cell_type": "code",
      "execution_count": null,
      "id": "39f31311-5b3b-425c-9ae8-0654f90dd2ad",
      "metadata": {
        "id": "39f31311-5b3b-425c-9ae8-0654f90dd2ad"
      },
      "outputs": [],
      "source": [
        "movies = driver.find_elements(\"xpath\", \"//*[@id='table']/div/table[2]\")"
      ]
    },
    {
      "cell_type": "code",
      "execution_count": null,
      "id": "828ca564-6000-4f79-a01f-7437ad9f31b7",
      "metadata": {
        "id": "828ca564-6000-4f79-a01f-7437ad9f31b7"
      },
      "outputs": [],
      "source": [
        "//*[@id=\"table\"]/div/table[2]/tbody/tr[5]/td[2]/a\n",
        "//*[@id=\"table\"]/div/table[2]/tbody/tr[2]/td[3]\n",
        "//*[@id=\"table\"]/div/table[2]/tbody/tr[7]/td[3]"
      ]
    },
    {
      "cell_type": "code",
      "execution_count": null,
      "id": "ed41596d-f67a-4f05-be9d-cf37717940a3",
      "metadata": {
        "id": "ed41596d-f67a-4f05-be9d-cf37717940a3"
      },
      "outputs": [],
      "source": [
        "dict={'movie_title':[],'movie_lifetime':[]}"
      ]
    },
    {
      "cell_type": "code",
      "execution_count": null,
      "id": "89900ab0-d76f-4bb6-9782-3989d12d94ac",
      "metadata": {
        "id": "89900ab0-d76f-4bb6-9782-3989d12d94ac"
      },
      "outputs": [],
      "source": [
        "ctr=0\n",
        "for movie in movies:\n",
        "    if ctr==200:\n",
        "        break\n",
        "    titles=movie.find_elements(\"xpath\", \".//td[2]/a\")\n",
        "    lifes=movie.find_elements(\"xpath\", \".//td[3]\")\n",
        "    for i in titles:\n",
        "        dict['movie_title'].append(i.text)\n",
        "    for i in lifes:\n",
        "        dict['movie_lifetime'].append(i.text)\n",
        "    ctr=ctr+1\n",
        ""
      ]
    },
    {
      "cell_type": "code",
      "execution_count": null,
      "id": "56df79fd-fd82-4f2a-8622-b703e64dddae",
      "metadata": {
        "id": "56df79fd-fd82-4f2a-8622-b703e64dddae",
        "outputId": "80b90d70-39e2-433e-c008-e6deaea4322e"
      },
      "outputs": [
        {
          "data": {
            "text/plain": [
              "2"
            ]
          },
          "execution_count": 15,
          "metadata": {},
          "output_type": "execute_result"
        }
      ],
      "source": [
        "import pandas as pd\n",
        "df=pd.DataFrame(dict)"
      ]
    },
    {
      "cell_type": "code",
      "execution_count": null,
      "id": "7592c5a7-882d-467e-9466-8123312bc6db",
      "metadata": {
        "id": "7592c5a7-882d-467e-9466-8123312bc6db"
      },
      "outputs": [],
      "source": [
        "df.head()"
      ]
    },
    {
      "cell_type": "code",
      "execution_count": null,
      "id": "d1227412-52fd-4085-905c-bbe5c94cec42",
      "metadata": {
        "id": "d1227412-52fd-4085-905c-bbe5c94cec42"
      },
      "outputs": [],
      "source": [
        "df.to_csv('books.csv')"
      ]
    }
  ],
  "metadata": {
    "kernelspec": {
      "display_name": "Python 3 (ipykernel)",
      "language": "python",
      "name": "python3"
    },
    "language_info": {
      "codemirror_mode": {
        "name": "ipython",
        "version": 3
      },
      "file_extension": ".py",
      "mimetype": "text/x-python",
      "name": "python",
      "nbconvert_exporter": "python",
      "pygments_lexer": "ipython3",
      "version": "3.8.18"
    },
    "colab": {
      "provenance": []
    }
  },
  "nbformat": 4,
  "nbformat_minor": 5
}