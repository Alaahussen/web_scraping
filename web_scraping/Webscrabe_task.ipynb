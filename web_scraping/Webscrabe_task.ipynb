{
  "cells": [
    {
      "cell_type": "code",
      "execution_count": null,
      "id": "ebe8d4e5-21fa-4529-87f3-2037b0a9fd43",
      "metadata": {
        "id": "ebe8d4e5-21fa-4529-87f3-2037b0a9fd43"
      },
      "outputs": [],
      "source": [
        "from selenium import webdriver\n",
        "import pandas as pd\n",
        "import csv"
      ]
    },
    {
      "cell_type": "code",
      "execution_count": null,
      "id": "b0d1fb2f-2b1d-4e82-9b6d-c1bda0f9902a",
      "metadata": {
        "id": "b0d1fb2f-2b1d-4e82-9b6d-c1bda0f9902a"
      },
      "outputs": [],
      "source": [
        "driver = webdriver.Chrome()"
      ]
    },
    {
      "cell_type": "code",
      "execution_count": null,
      "id": "bedcc2f0-e5b0-42e2-a7e4-1ef80ca6f4b0",
      "metadata": {
        "id": "bedcc2f0-e5b0-42e2-a7e4-1ef80ca6f4b0"
      },
      "outputs": [],
      "source": [
        "driver.get(\"https://www.amazon.eg/s?k=samsung&rh=p_89%3Asamsung&language=en&ref=SQEG-WEB-SR301\")"
      ]
    },
    {
      "cell_type": "code",
      "execution_count": null,
      "id": "13559835-3943-484c-8c66-0a30cc0ba995",
      "metadata": {
        "id": "13559835-3943-484c-8c66-0a30cc0ba995"
      },
      "outputs": [],
      "source": [
        "task = driver.find_elements(\"xpath\", \"//div[@class='a-section a-spacing-base']/div\")"
      ]
    },
    {
      "cell_type": "code",
      "execution_count": null,
      "id": "02d2c7dc-05dd-43a3-a33a-78dba7f2741a",
      "metadata": {
        "id": "02d2c7dc-05dd-43a3-a33a-78dba7f2741a"
      },
      "outputs": [],
      "source": [
        "l=[]\n",
        "for i in task:\n",
        "    if i.text!='':\n",
        "        l.append(i.text)"
      ]
    },
    {
      "cell_type": "code",
      "execution_count": null,
      "id": "5f377a17-598b-47cc-ae80-14f4882d9b89",
      "metadata": {
        "id": "5f377a17-598b-47cc-ae80-14f4882d9b89"
      },
      "outputs": [],
      "source": [
        "import pandas as pd\n",
        "import re\n",
        "data =l\n",
        "def parse_entry(entry):\n",
        "    brand = re.search(r\"^\\S+\", entry).group()\n",
        "    model = re.search(r\"Galaxy [\\w\\s]+,\", entry).group().strip(',') if re.search(r\"Galaxy [\\w\\s]+,\", entry) else None\n",
        "    device_type = \"Android Smartphone\" if \"Android Smartphone\" in entry else None\n",
        "    sim_config = \"Dual SIM\" if \"Dual SIM\" in entry else \"Single SIM\"\n",
        "    ram = re.search(r\"\\d+GB RAM\", entry).group() if re.search(r\"\\d+GB RAM\", entry) else None\n",
        "    storage = re.search(r\"\\d+GB Storage\", entry).group() if re.search(r\"\\d+GB Storage\", entry) else None\n",
        "    color = re.search(r\"(Black|Blue|Navy|Light Blue|Inox)\", entry).group() if re.search(r\"(Black|Blue|Navy|Light Blue|Inox)\", entry) else None\n",
        "    warranty = re.search(r\"\\d+ Year Warranty\", entry).group() if re.search(r\"\\d+ Year Warranty\", entry) else \"No Warranty\"\n",
        "    price = re.search(r\"EGP\\d+,\\d+\", entry).group() if re.search(r\"EGP\\d+,\\d+\", entry) else None\n",
        "    discount_price = re.search(r\"Was:\\nEGP\\d+,\\d+\", entry)\n",
        "    discount_price = discount_price.group().split(\"\\n\")[1] if discount_price else None\n",
        "    return {\n",
        "        \"Brand\": brand,\n",
        "        \"Model\": model,\n",
        "        \"Device Type\": device_type,\n",
        "        \"SIM Configuration\": sim_config,\n",
        "        \"RAM\": ram,\n",
        "        \"Storage\": storage,\n",
        "        \"Color\": color,\n",
        "        \"Warranty\": warranty,\n",
        "        \"Price\": price,\n",
        "        \"Discount Price\": discount_price,\n",
        "    }\n",
        "parsed_data = [parse_entry(entry) for entry in data]\n",
        "df = pd.DataFrame(parsed_data)\n",
        "df.to_csv(\"mobile_data.csv\", index=False)\n"
      ]
    },
    {
      "cell_type": "code",
      "execution_count": null,
      "id": "3ac737e9-9ac6-465e-9e4a-072c4deea575",
      "metadata": {
        "id": "3ac737e9-9ac6-465e-9e4a-072c4deea575",
        "outputId": "a3af8036-9c60-426d-af55-66a0beeb4081"
      },
      "outputs": [
        {
          "data": {
            "text/html": [
              "<div>\n",
              "<style scoped>\n",
              "    .dataframe tbody tr th:only-of-type {\n",
              "        vertical-align: middle;\n",
              "    }\n",
              "\n",
              "    .dataframe tbody tr th {\n",
              "        vertical-align: top;\n",
              "    }\n",
              "\n",
              "    .dataframe thead th {\n",
              "        text-align: right;\n",
              "    }\n",
              "</style>\n",
              "<table border=\"1\" class=\"dataframe\">\n",
              "  <thead>\n",
              "    <tr style=\"text-align: right;\">\n",
              "      <th></th>\n",
              "      <th>Brand</th>\n",
              "      <th>Model</th>\n",
              "      <th>Device Type</th>\n",
              "      <th>SIM Configuration</th>\n",
              "      <th>RAM</th>\n",
              "      <th>Storage</th>\n",
              "      <th>Color</th>\n",
              "      <th>Warranty</th>\n",
              "      <th>Price</th>\n",
              "      <th>Discount Price</th>\n",
              "    </tr>\n",
              "  </thead>\n",
              "  <tbody>\n",
              "    <tr>\n",
              "      <th>0</th>\n",
              "      <td>SAMSUNG</td>\n",
              "      <td>Galaxy A05s</td>\n",
              "      <td>Android Smartphone</td>\n",
              "      <td>Dual SIM</td>\n",
              "      <td>4GB RAM</td>\n",
              "      <td>64GB Storage</td>\n",
              "      <td>Black</td>\n",
              "      <td>1 Year Warranty</td>\n",
              "      <td>EGP5,097</td>\n",
              "      <td>None</td>\n",
              "    </tr>\n",
              "    <tr>\n",
              "      <th>1</th>\n",
              "      <td>SAMSUNG</td>\n",
              "      <td>Galaxy A15</td>\n",
              "      <td>Android Smartphone</td>\n",
              "      <td>Dual SIM</td>\n",
              "      <td>8GB RAM</td>\n",
              "      <td>256GB Storage</td>\n",
              "      <td>Blue</td>\n",
              "      <td>1 Year Warranty</td>\n",
              "      <td>EGP8,899</td>\n",
              "      <td>None</td>\n",
              "    </tr>\n",
              "    <tr>\n",
              "      <th>2</th>\n",
              "      <td>SAMSUNG</td>\n",
              "      <td>Galaxy A15</td>\n",
              "      <td>Android Smartphone</td>\n",
              "      <td>Dual SIM</td>\n",
              "      <td>6GB RAM</td>\n",
              "      <td>128GB Storage</td>\n",
              "      <td>Black</td>\n",
              "      <td>1 Year Warranty</td>\n",
              "      <td>EGP7,249</td>\n",
              "      <td>None</td>\n",
              "    </tr>\n",
              "    <tr>\n",
              "      <th>3</th>\n",
              "      <td>SAMSUNG</td>\n",
              "      <td>Galaxy A15</td>\n",
              "      <td>Android Smartphone</td>\n",
              "      <td>Dual SIM</td>\n",
              "      <td>4GB RAM</td>\n",
              "      <td>128GB Storage</td>\n",
              "      <td>Light Blue</td>\n",
              "      <td>1 Year Warranty</td>\n",
              "      <td>EGP6,700</td>\n",
              "      <td>None</td>\n",
              "    </tr>\n",
              "    <tr>\n",
              "      <th>4</th>\n",
              "      <td>SAMSUNG</td>\n",
              "      <td>Galaxy A55 5G</td>\n",
              "      <td>Android Smartphone</td>\n",
              "      <td>Dual SIM</td>\n",
              "      <td>8GB RAM</td>\n",
              "      <td>256GB Storage</td>\n",
              "      <td>Navy</td>\n",
              "      <td>1 Year Warranty</td>\n",
              "      <td>EGP18,950</td>\n",
              "      <td>None</td>\n",
              "    </tr>\n",
              "    <tr>\n",
              "      <th>5</th>\n",
              "      <td>Best</td>\n",
              "      <td>None</td>\n",
              "      <td>None</td>\n",
              "      <td>Single SIM</td>\n",
              "      <td>None</td>\n",
              "      <td>None</td>\n",
              "      <td>None</td>\n",
              "      <td>No Warranty</td>\n",
              "      <td>None</td>\n",
              "      <td>None</td>\n",
              "    </tr>\n",
              "    <tr>\n",
              "      <th>6</th>\n",
              "      <td>SAMSUNG</td>\n",
              "      <td>None</td>\n",
              "      <td>None</td>\n",
              "      <td>Single SIM</td>\n",
              "      <td>None</td>\n",
              "      <td>None</td>\n",
              "      <td>Inox</td>\n",
              "      <td>No Warranty</td>\n",
              "      <td>EGP14,999</td>\n",
              "      <td>None</td>\n",
              "    </tr>\n",
              "    <tr>\n",
              "      <th>7</th>\n",
              "      <td>Best</td>\n",
              "      <td>None</td>\n",
              "      <td>None</td>\n",
              "      <td>Single SIM</td>\n",
              "      <td>None</td>\n",
              "      <td>None</td>\n",
              "      <td>None</td>\n",
              "      <td>No Warranty</td>\n",
              "      <td>None</td>\n",
              "      <td>None</td>\n",
              "    </tr>\n",
              "    <tr>\n",
              "      <th>8</th>\n",
              "      <td>SAMSUNG</td>\n",
              "      <td>None</td>\n",
              "      <td>None</td>\n",
              "      <td>Single SIM</td>\n",
              "      <td>None</td>\n",
              "      <td>None</td>\n",
              "      <td>None</td>\n",
              "      <td>No Warranty</td>\n",
              "      <td>EGP3,799</td>\n",
              "      <td>None</td>\n",
              "    </tr>\n",
              "    <tr>\n",
              "      <th>9</th>\n",
              "      <td>SAMSUNG</td>\n",
              "      <td>Galaxy A15</td>\n",
              "      <td>Android Smartphone</td>\n",
              "      <td>Dual SIM</td>\n",
              "      <td>6GB RAM</td>\n",
              "      <td>128GB Storage</td>\n",
              "      <td>Light Blue</td>\n",
              "      <td>1 Year Warranty</td>\n",
              "      <td>EGP7,790</td>\n",
              "      <td>None</td>\n",
              "    </tr>\n",
              "  </tbody>\n",
              "</table>\n",
              "</div>"
            ],
            "text/plain": [
              "     Brand          Model         Device Type SIM Configuration      RAM  \\\n",
              "0  SAMSUNG    Galaxy A05s  Android Smartphone          Dual SIM  4GB RAM   \n",
              "1  SAMSUNG     Galaxy A15  Android Smartphone          Dual SIM  8GB RAM   \n",
              "2  SAMSUNG     Galaxy A15  Android Smartphone          Dual SIM  6GB RAM   \n",
              "3  SAMSUNG     Galaxy A15  Android Smartphone          Dual SIM  4GB RAM   \n",
              "4  SAMSUNG  Galaxy A55 5G  Android Smartphone          Dual SIM  8GB RAM   \n",
              "5     Best           None                None        Single SIM     None   \n",
              "6  SAMSUNG           None                None        Single SIM     None   \n",
              "7     Best           None                None        Single SIM     None   \n",
              "8  SAMSUNG           None                None        Single SIM     None   \n",
              "9  SAMSUNG     Galaxy A15  Android Smartphone          Dual SIM  6GB RAM   \n",
              "\n",
              "         Storage       Color         Warranty      Price Discount Price  \n",
              "0   64GB Storage       Black  1 Year Warranty   EGP5,097           None  \n",
              "1  256GB Storage        Blue  1 Year Warranty   EGP8,899           None  \n",
              "2  128GB Storage       Black  1 Year Warranty   EGP7,249           None  \n",
              "3  128GB Storage  Light Blue  1 Year Warranty   EGP6,700           None  \n",
              "4  256GB Storage        Navy  1 Year Warranty  EGP18,950           None  \n",
              "5           None        None      No Warranty       None           None  \n",
              "6           None        Inox      No Warranty  EGP14,999           None  \n",
              "7           None        None      No Warranty       None           None  \n",
              "8           None        None      No Warranty   EGP3,799           None  \n",
              "9  128GB Storage  Light Blue  1 Year Warranty   EGP7,790           None  "
            ]
          },
          "execution_count": 37,
          "metadata": {},
          "output_type": "execute_result"
        }
      ],
      "source": [
        "df.head(10)"
      ]
    },
    {
      "cell_type": "code",
      "execution_count": null,
      "id": "d62237a1-46bb-49c7-9988-7d47fbe45b73",
      "metadata": {
        "id": "d62237a1-46bb-49c7-9988-7d47fbe45b73"
      },
      "outputs": [],
      "source": [
        "for i in df.index:\n",
        "    if df.loc[i, 'Brand'] == 'Best':\n",
        "        df = df.drop(index=i)"
      ]
    },
    {
      "cell_type": "code",
      "execution_count": null,
      "id": "b34acca1-9384-4358-bf3c-b29dfd327a7e",
      "metadata": {
        "id": "b34acca1-9384-4358-bf3c-b29dfd327a7e",
        "outputId": "87956df7-abc8-4569-e398-e78ace2f1f29"
      },
      "outputs": [
        {
          "data": {
            "text/plain": [
              "(48, 10)"
            ]
          },
          "execution_count": 40,
          "metadata": {},
          "output_type": "execute_result"
        }
      ],
      "source": [
        "df.shape"
      ]
    },
    {
      "cell_type": "code",
      "execution_count": null,
      "id": "be434622-9ebe-474e-ae14-5ec75cedf02a",
      "metadata": {
        "id": "be434622-9ebe-474e-ae14-5ec75cedf02a"
      },
      "outputs": [],
      "source": [
        "image_elements = driver.find_elements(\"xpath\", '//img[@class=\"s-image\"]')\n",
        "image_links = [img.get_attribute(\"src\") for img in image_elements]\n"
      ]
    },
    {
      "cell_type": "code",
      "execution_count": null,
      "id": "4ee6480b-41c0-4aa2-bf3c-744476b848c9",
      "metadata": {
        "id": "4ee6480b-41c0-4aa2-bf3c-744476b848c9",
        "outputId": "bb68cce6-0f41-4286-d9e2-14009903d40f"
      },
      "outputs": [
        {
          "data": {
            "text/plain": [
              "'https://m.media-amazon.com/images/G/42/UAE-hq/2023/img/Prime/XCM_Manual_1544175_5396724_1500x300_2X._CB593029270_.jpg'"
            ]
          },
          "execution_count": 52,
          "metadata": {},
          "output_type": "execute_result"
        }
      ],
      "source": [
        "image_links.pop(0)"
      ]
    },
    {
      "cell_type": "code",
      "execution_count": null,
      "id": "f371c28c-d824-480f-a669-eab1edbc9d8e",
      "metadata": {
        "id": "f371c28c-d824-480f-a669-eab1edbc9d8e"
      },
      "outputs": [],
      "source": [
        "df[\"Image_Links\"]=image_links"
      ]
    },
    {
      "cell_type": "code",
      "execution_count": null,
      "id": "ba075f83-9189-4246-9ecb-c308bf47543f",
      "metadata": {
        "id": "ba075f83-9189-4246-9ecb-c308bf47543f",
        "outputId": "64e56bda-c50a-4146-9b86-2d840c21c799"
      },
      "outputs": [
        {
          "data": {
            "text/plain": [
              "['https://m.media-amazon.com/images/I/61Ll0048EIL._AC_UL320_.jpg',\n",
              " 'https://m.media-amazon.com/images/I/514nSB8S9pL._AC_UL320_.jpg',\n",
              " 'https://m.media-amazon.com/images/I/61isHdQ+TDL._AC_UL320_.jpg',\n",
              " 'https://m.media-amazon.com/images/I/61cl1NEIrdL._AC_UL320_.jpg',\n",
              " 'https://m.media-amazon.com/images/I/61ERH+yIyiL._AC_UL320_.jpg',\n",
              " 'https://m.media-amazon.com/images/I/51+-GVWDNlL._AC_UL320_.jpg',\n",
              " 'https://m.media-amazon.com/images/I/61YbjOXazxL._AC_UL320_.jpg',\n",
              " 'https://m.media-amazon.com/images/I/61cl1NEIrdL._AC_UL320_.jpg',\n",
              " 'https://m.media-amazon.com/images/I/71-QzvIZnVL._AC_UL320_.jpg',\n",
              " 'https://m.media-amazon.com/images/I/71WkqFssobL._AC_UL320_.jpg',\n",
              " 'https://m.media-amazon.com/images/I/71Azxw1VWeL._AC_UL320_.jpg',\n",
              " 'https://m.media-amazon.com/images/I/51Cida8RecL._AC_UL320_.jpg',\n",
              " 'https://m.media-amazon.com/images/I/61Wp5qhgwzL._AC_UL320_.jpg',\n",
              " 'https://m.media-amazon.com/images/I/61BDP4KDY3L._AC_UL320_.jpg',\n",
              " 'https://m.media-amazon.com/images/I/71HHuzT9m2L._AC_UL320_.jpg',\n",
              " 'https://m.media-amazon.com/images/I/719HV2e6-sL._AC_UL320_.jpg',\n",
              " 'https://m.media-amazon.com/images/I/61Wp5qhgwzL._AC_UL320_.jpg',\n",
              " 'https://m.media-amazon.com/images/I/61Lp1UcxeLL._AC_UL320_.jpg',\n",
              " 'https://m.media-amazon.com/images/I/61JHEfCeJOL._AC_UL320_.jpg',\n",
              " 'https://m.media-amazon.com/images/I/51o87ZkAYLL._AC_UL320_.jpg',\n",
              " 'https://m.media-amazon.com/images/I/71MCH34W2yL._AC_UL320_.jpg',\n",
              " 'https://m.media-amazon.com/images/I/61mSsqaxrHL._AC_UL320_.jpg',\n",
              " 'https://m.media-amazon.com/images/I/71dYQdmhwFL._AC_UL320_.jpg',\n",
              " 'https://m.media-amazon.com/images/I/61cmlEY2jsL._AC_UL320_.jpg',\n",
              " 'https://m.media-amazon.com/images/I/61asGlxdMOL._AC_UL320_.jpg',\n",
              " 'https://m.media-amazon.com/images/I/51OIq5aut4L._AC_UL320_.jpg',\n",
              " 'https://m.media-amazon.com/images/I/51-NZ55zHBL._AC_UL320_.jpg',\n",
              " 'https://m.media-amazon.com/images/I/71uf2aP1PAL._AC_UL320_.jpg',\n",
              " 'https://m.media-amazon.com/images/I/41w93Hsd8AL._AC_UL320_.jpg',\n",
              " 'https://m.media-amazon.com/images/I/61lzvL4tAqL._AC_UL320_.jpg',\n",
              " 'https://m.media-amazon.com/images/I/61T7v5AeRBL._AC_UL320_.jpg',\n",
              " 'https://m.media-amazon.com/images/I/61Y9W8UaMyL._AC_UL320_.jpg',\n",
              " 'https://m.media-amazon.com/images/I/51P4huodC+L._AC_UL320_.jpg',\n",
              " 'https://m.media-amazon.com/images/I/51dqohRAsqL._AC_UL320_.jpg',\n",
              " 'https://m.media-amazon.com/images/I/61V7NjE8V+L._AC_UL320_.jpg',\n",
              " 'https://m.media-amazon.com/images/I/71ve-OMxzyL._AC_UL320_.jpg',\n",
              " 'https://m.media-amazon.com/images/I/61n8R-QRkUL._AC_UL320_.jpg',\n",
              " 'https://m.media-amazon.com/images/I/61mSsqaxrHL._AC_UL320_.jpg',\n",
              " 'https://m.media-amazon.com/images/I/516WD9nBeiL._AC_UL320_.jpg',\n",
              " 'https://m.media-amazon.com/images/I/61B7dn9ZUYL._AC_UL320_.jpg',\n",
              " 'https://m.media-amazon.com/images/I/71DA0YoM8eL._AC_UL320_.jpg',\n",
              " 'https://m.media-amazon.com/images/I/61EhQ+BnVgL._AC_UL320_.jpg',\n",
              " 'https://m.media-amazon.com/images/I/71-QzvIZnVL._AC_UL320_.jpg',\n",
              " 'https://m.media-amazon.com/images/I/61lzvL4tAqL._AC_UL320_.jpg',\n",
              " 'https://m.media-amazon.com/images/I/61gBZoxml0L._AC_UL320_.jpg',\n",
              " 'https://m.media-amazon.com/images/I/61lzvL4tAqL._AC_UL320_.jpg',\n",
              " 'https://m.media-amazon.com/images/I/61tOjWVRaKL._AC_UL320_.jpg',\n",
              " 'https://m.media-amazon.com/images/I/61w6V8bR1tL._AC_UL320_.jpg']"
            ]
          },
          "execution_count": 54,
          "metadata": {},
          "output_type": "execute_result"
        }
      ],
      "source": [
        "image_links"
      ]
    },
    {
      "cell_type": "code",
      "execution_count": null,
      "id": "971acb94-3ac1-4316-9013-1ca005569062",
      "metadata": {
        "id": "971acb94-3ac1-4316-9013-1ca005569062",
        "outputId": "7060217f-c4e9-493a-cd7b-19a4dcbace47"
      },
      "outputs": [
        {
          "data": {
            "text/html": [
              "<div>\n",
              "<style scoped>\n",
              "    .dataframe tbody tr th:only-of-type {\n",
              "        vertical-align: middle;\n",
              "    }\n",
              "\n",
              "    .dataframe tbody tr th {\n",
              "        vertical-align: top;\n",
              "    }\n",
              "\n",
              "    .dataframe thead th {\n",
              "        text-align: right;\n",
              "    }\n",
              "</style>\n",
              "<table border=\"1\" class=\"dataframe\">\n",
              "  <thead>\n",
              "    <tr style=\"text-align: right;\">\n",
              "      <th></th>\n",
              "      <th>Brand</th>\n",
              "      <th>Model</th>\n",
              "      <th>Device Type</th>\n",
              "      <th>SIM Configuration</th>\n",
              "      <th>RAM</th>\n",
              "      <th>Storage</th>\n",
              "      <th>Color</th>\n",
              "      <th>Warranty</th>\n",
              "      <th>Price</th>\n",
              "      <th>Discount Price</th>\n",
              "      <th>Image_Links</th>\n",
              "    </tr>\n",
              "  </thead>\n",
              "  <tbody>\n",
              "    <tr>\n",
              "      <th>0</th>\n",
              "      <td>SAMSUNG</td>\n",
              "      <td>Galaxy A05s</td>\n",
              "      <td>Android Smartphone</td>\n",
              "      <td>Dual SIM</td>\n",
              "      <td>4GB RAM</td>\n",
              "      <td>64GB Storage</td>\n",
              "      <td>Black</td>\n",
              "      <td>1 Year Warranty</td>\n",
              "      <td>EGP5,097</td>\n",
              "      <td>None</td>\n",
              "      <td>https://m.media-amazon.com/images/I/61Ll0048EI...</td>\n",
              "    </tr>\n",
              "    <tr>\n",
              "      <th>1</th>\n",
              "      <td>SAMSUNG</td>\n",
              "      <td>Galaxy A15</td>\n",
              "      <td>Android Smartphone</td>\n",
              "      <td>Dual SIM</td>\n",
              "      <td>8GB RAM</td>\n",
              "      <td>256GB Storage</td>\n",
              "      <td>Blue</td>\n",
              "      <td>1 Year Warranty</td>\n",
              "      <td>EGP8,899</td>\n",
              "      <td>None</td>\n",
              "      <td>https://m.media-amazon.com/images/I/514nSB8S9p...</td>\n",
              "    </tr>\n",
              "    <tr>\n",
              "      <th>2</th>\n",
              "      <td>SAMSUNG</td>\n",
              "      <td>Galaxy A15</td>\n",
              "      <td>Android Smartphone</td>\n",
              "      <td>Dual SIM</td>\n",
              "      <td>6GB RAM</td>\n",
              "      <td>128GB Storage</td>\n",
              "      <td>Black</td>\n",
              "      <td>1 Year Warranty</td>\n",
              "      <td>EGP7,249</td>\n",
              "      <td>None</td>\n",
              "      <td>https://m.media-amazon.com/images/I/61isHdQ+TD...</td>\n",
              "    </tr>\n",
              "    <tr>\n",
              "      <th>3</th>\n",
              "      <td>SAMSUNG</td>\n",
              "      <td>Galaxy A15</td>\n",
              "      <td>Android Smartphone</td>\n",
              "      <td>Dual SIM</td>\n",
              "      <td>4GB RAM</td>\n",
              "      <td>128GB Storage</td>\n",
              "      <td>Light Blue</td>\n",
              "      <td>1 Year Warranty</td>\n",
              "      <td>EGP6,700</td>\n",
              "      <td>None</td>\n",
              "      <td>https://m.media-amazon.com/images/I/61cl1NEIrd...</td>\n",
              "    </tr>\n",
              "    <tr>\n",
              "      <th>4</th>\n",
              "      <td>SAMSUNG</td>\n",
              "      <td>Galaxy A55 5G</td>\n",
              "      <td>Android Smartphone</td>\n",
              "      <td>Dual SIM</td>\n",
              "      <td>8GB RAM</td>\n",
              "      <td>256GB Storage</td>\n",
              "      <td>Navy</td>\n",
              "      <td>1 Year Warranty</td>\n",
              "      <td>EGP18,950</td>\n",
              "      <td>None</td>\n",
              "      <td>https://m.media-amazon.com/images/I/61ERH+yIyi...</td>\n",
              "    </tr>\n",
              "  </tbody>\n",
              "</table>\n",
              "</div>"
            ],
            "text/plain": [
              "     Brand          Model         Device Type SIM Configuration      RAM  \\\n",
              "0  SAMSUNG    Galaxy A05s  Android Smartphone          Dual SIM  4GB RAM   \n",
              "1  SAMSUNG     Galaxy A15  Android Smartphone          Dual SIM  8GB RAM   \n",
              "2  SAMSUNG     Galaxy A15  Android Smartphone          Dual SIM  6GB RAM   \n",
              "3  SAMSUNG     Galaxy A15  Android Smartphone          Dual SIM  4GB RAM   \n",
              "4  SAMSUNG  Galaxy A55 5G  Android Smartphone          Dual SIM  8GB RAM   \n",
              "\n",
              "         Storage       Color         Warranty      Price Discount Price  \\\n",
              "0   64GB Storage       Black  1 Year Warranty   EGP5,097           None   \n",
              "1  256GB Storage        Blue  1 Year Warranty   EGP8,899           None   \n",
              "2  128GB Storage       Black  1 Year Warranty   EGP7,249           None   \n",
              "3  128GB Storage  Light Blue  1 Year Warranty   EGP6,700           None   \n",
              "4  256GB Storage        Navy  1 Year Warranty  EGP18,950           None   \n",
              "\n",
              "                                         Image_Links  \n",
              "0  https://m.media-amazon.com/images/I/61Ll0048EI...  \n",
              "1  https://m.media-amazon.com/images/I/514nSB8S9p...  \n",
              "2  https://m.media-amazon.com/images/I/61isHdQ+TD...  \n",
              "3  https://m.media-amazon.com/images/I/61cl1NEIrd...  \n",
              "4  https://m.media-amazon.com/images/I/61ERH+yIyi...  "
            ]
          },
          "execution_count": 55,
          "metadata": {},
          "output_type": "execute_result"
        }
      ],
      "source": [
        "df.head()"
      ]
    },
    {
      "cell_type": "code",
      "execution_count": null,
      "id": "908b4159-1e9f-41d2-9426-0cea1aaf53d0",
      "metadata": {
        "id": "908b4159-1e9f-41d2-9426-0cea1aaf53d0",
        "outputId": "0590a379-4265-470b-92c7-f240d854574f"
      },
      "outputs": [
        {
          "data": {
            "text/plain": [
              "(48, 11)"
            ]
          },
          "execution_count": 57,
          "metadata": {},
          "output_type": "execute_result"
        }
      ],
      "source": [
        "df.shape"
      ]
    },
    {
      "cell_type": "code",
      "execution_count": null,
      "id": "52f18208-5bcb-4af6-8eb8-1a9ead8ff0b8",
      "metadata": {
        "id": "52f18208-5bcb-4af6-8eb8-1a9ead8ff0b8"
      },
      "outputs": [],
      "source": []
    }
  ],
  "metadata": {
    "kernelspec": {
      "display_name": "Python 3 (ipykernel)",
      "language": "python",
      "name": "python3"
    },
    "language_info": {
      "codemirror_mode": {
        "name": "ipython",
        "version": 3
      },
      "file_extension": ".py",
      "mimetype": "text/x-python",
      "name": "python",
      "nbconvert_exporter": "python",
      "pygments_lexer": "ipython3",
      "version": "3.8.18"
    },
    "colab": {
      "provenance": []
    }
  },
  "nbformat": 4,
  "nbformat_minor": 5
}