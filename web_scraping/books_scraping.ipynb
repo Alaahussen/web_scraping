{
  "cells": [
    {
      "cell_type": "code",
      "execution_count": null,
      "id": "1e0d505d-b6ee-4a02-ab38-5388934bffb3",
      "metadata": {
        "id": "1e0d505d-b6ee-4a02-ab38-5388934bffb3"
      },
      "outputs": [],
      "source": [
        "from selenium import webdriver"
      ]
    },
    {
      "cell_type": "code",
      "execution_count": null,
      "id": "fceeaf6e-cab4-4576-bd7c-07c1c7a5a5e7",
      "metadata": {
        "id": "fceeaf6e-cab4-4576-bd7c-07c1c7a5a5e7"
      },
      "outputs": [],
      "source": [
        "from selenium.webdriver.common.by import By"
      ]
    },
    {
      "cell_type": "code",
      "execution_count": null,
      "id": "ae67c663-e40c-418e-a218-1e6d7c573a19",
      "metadata": {
        "id": "ae67c663-e40c-418e-a218-1e6d7c573a19"
      },
      "outputs": [],
      "source": [
        "driver = webdriver.Chrome()"
      ]
    },
    {
      "cell_type": "code",
      "execution_count": null,
      "id": "777fec53-302a-476b-8e8d-0c08162fae01",
      "metadata": {
        "id": "777fec53-302a-476b-8e8d-0c08162fae01"
      },
      "outputs": [],
      "source": [
        "driver.get(\"https://www.amazon.in/gp/bestsellers/books/\")"
      ]
    },
    {
      "cell_type": "code",
      "execution_count": null,
      "id": "cdd8861a-4b8f-4660-a288-0ac464cd5058",
      "metadata": {
        "id": "cdd8861a-4b8f-4660-a288-0ac464cd5058"
      },
      "outputs": [],
      "source": [
        "books = driver.find_elements(\"xpath\", \"//div[@class='a-column a-span12 a-text-center _cDEzb_grid-column_2hIsc']/div\")"
      ]
    },
    {
      "cell_type": "code",
      "execution_count": null,
      "id": "742eaee0-f4b0-4f18-a140-e45e3943dc5b",
      "metadata": {
        "id": "742eaee0-f4b0-4f18-a140-e45e3943dc5b"
      },
      "outputs": [],
      "source": [
        "dict={'book_title':[],'book_price':[]}\n"
      ]
    },
    {
      "cell_type": "code",
      "execution_count": null,
      "id": "3f3e36cb-6c23-44a1-b0e9-378515a4c6e8",
      "metadata": {
        "id": "3f3e36cb-6c23-44a1-b0e9-378515a4c6e8"
      },
      "outputs": [],
      "source": [
        "for book in books:\n",
        "    title = book.find_elements(\"xpath\", \".//a/span/div\")\n",
        "    prices=book.find_elements(\"xpath\", \".//div/div/a/div/span/span\")\n",
        "    for i in title:\n",
        "        dict['book_title'].append(i.text)\n",
        "    for i in prices:\n",
        "        dict['book_price'].append(i.text)"
      ]
    },
    {
      "cell_type": "code",
      "execution_count": null,
      "id": "f642d2e5-a9b7-4c3d-94bb-e2f8d5585293",
      "metadata": {
        "id": "f642d2e5-a9b7-4c3d-94bb-e2f8d5585293"
      },
      "outputs": [],
      "source": [
        "import pandas as pd\n",
        "df=pd.DataFrame(dict)"
      ]
    },
    {
      "cell_type": "code",
      "execution_count": null,
      "id": "5321927a-7f6b-4b3a-9c09-b93f7708ccc5",
      "metadata": {
        "id": "5321927a-7f6b-4b3a-9c09-b93f7708ccc5",
        "outputId": "4f3cf785-e02c-4df8-8c3c-f685d64ae329"
      },
      "outputs": [
        {
          "data": {
            "text/html": [
              "<div>\n",
              "<style scoped>\n",
              "    .dataframe tbody tr th:only-of-type {\n",
              "        vertical-align: middle;\n",
              "    }\n",
              "\n",
              "    .dataframe tbody tr th {\n",
              "        vertical-align: top;\n",
              "    }\n",
              "\n",
              "    .dataframe thead th {\n",
              "        text-align: right;\n",
              "    }\n",
              "</style>\n",
              "<table border=\"1\" class=\"dataframe\">\n",
              "  <thead>\n",
              "    <tr style=\"text-align: right;\">\n",
              "      <th></th>\n",
              "      <th>book_title</th>\n",
              "      <th>book_price</th>\n",
              "    </tr>\n",
              "  </thead>\n",
              "  <tbody>\n",
              "    <tr>\n",
              "      <th>0</th>\n",
              "      <td>Too Good to Be True : A smart, funny will-they...</td>\n",
              "      <td>₹288.00</td>\n",
              "    </tr>\n",
              "    <tr>\n",
              "      <th>1</th>\n",
              "      <td>Oswaal CBSE 25 Combined Sample Question papers...</td>\n",
              "      <td>₹405.00</td>\n",
              "    </tr>\n",
              "    <tr>\n",
              "      <th>2</th>\n",
              "      <td>The Psychology of Money</td>\n",
              "      <td>₹313.00</td>\n",
              "    </tr>\n",
              "    <tr>\n",
              "      <th>3</th>\n",
              "      <td>Dopamine Detox : A Short Guide to Remove Distr...</td>\n",
              "      <td>₹190.00</td>\n",
              "    </tr>\n",
              "    <tr>\n",
              "      <th>4</th>\n",
              "      <td>My First Library: Boxset of 10 Board Books for...</td>\n",
              "      <td>₹399.00</td>\n",
              "    </tr>\n",
              "  </tbody>\n",
              "</table>\n",
              "</div>"
            ],
            "text/plain": [
              "                                          book_title book_price\n",
              "0  Too Good to Be True : A smart, funny will-they...    ₹288.00\n",
              "1  Oswaal CBSE 25 Combined Sample Question papers...    ₹405.00\n",
              "2                            The Psychology of Money    ₹313.00\n",
              "3  Dopamine Detox : A Short Guide to Remove Distr...    ₹190.00\n",
              "4  My First Library: Boxset of 10 Board Books for...    ₹399.00"
            ]
          },
          "execution_count": 46,
          "metadata": {},
          "output_type": "execute_result"
        }
      ],
      "source": [
        "df.head()"
      ]
    },
    {
      "cell_type": "code",
      "execution_count": null,
      "id": "6bb095ad-c310-4c42-a514-82317d1f6dd1",
      "metadata": {
        "id": "6bb095ad-c310-4c42-a514-82317d1f6dd1"
      },
      "outputs": [],
      "source": [
        "pd.to_csv('books.csv')"
      ]
    }
  ],
  "metadata": {
    "kernelspec": {
      "display_name": "Python 3 (ipykernel)",
      "language": "python",
      "name": "python3"
    },
    "language_info": {
      "codemirror_mode": {
        "name": "ipython",
        "version": 3
      },
      "file_extension": ".py",
      "mimetype": "text/x-python",
      "name": "python",
      "nbconvert_exporter": "python",
      "pygments_lexer": "ipython3",
      "version": "3.8.18"
    },
    "colab": {
      "provenance": []
    }
  },
  "nbformat": 4,
  "nbformat_minor": 5
}